{
 "cells": [
  {
   "cell_type": "code",
   "execution_count": 12,
   "id": "b9c17ac5",
   "metadata": {},
   "outputs": [],
   "source": [
    "from langchain.llms import AzureOpenAI\n",
    "import os\n",
    "from helicone.openai_proxy import openai\n",
    "from langchain.llms import AzureOpenAI\n",
    "\n",
    "\n",
    "openai.api_type  = \"azure\"\n",
    "openai.api_version  = \"2023-03-15-preview\"\n",
    "os.environ[\"OPENAI_API_KEY\"]=\"9fb2f00451004c6e82f33d2e7965099a\"\n",
    "openai.api_base = \"https://bvruseast.openai.azure.com/\"\n",
    "llm = AzureOpenAI(\n",
    "    temperature=0, \n",
    "    engine=\"GPT4-8k\",\n",
    "    model_name=\"gpt-4\",\n",
    "    headers={\n",
    "      \"Helicone-Auth\": \"Bearer sk-helicone-kjll5bq-ywceloy-ujfo7ea-5jh7wwq\",\n",
    "        \"Helicone-User-Id\": \"Abhishek Srivastav\"\n",
    "    }\n",
    ")\n",
    "\n",
    "\n"
   ]
  },
  {
   "cell_type": "code",
   "execution_count": 6,
   "id": "eb5d1535",
   "metadata": {},
   "outputs": [
    {
     "name": "stdout",
     "output_type": "stream",
     "text": [
      "Collecting helicone\n",
      "  Obtaining dependency information for helicone from https://files.pythonhosted.org/packages/24/4a/d847c3032a9942c8e6ad3d9e6144a9df69d0c9e200457ef51d3336dd08dc/helicone-1.0.9-py3-none-any.whl.metadata\n",
      "  Downloading helicone-1.0.9-py3-none-any.whl.metadata (692 bytes)\n",
      "Collecting lockfile<0.13.0,>=0.12.2 (from helicone)\n",
      "  Downloading lockfile-0.12.2-py2.py3-none-any.whl (13 kB)\n",
      "Collecting openai<0.28.0,>=0.27.0 (from helicone)\n",
      "  Obtaining dependency information for openai<0.28.0,>=0.27.0 from https://files.pythonhosted.org/packages/f1/1f/3a0cb7d172f451b2ca8bf65d9196aa3b6878c010d461257c621e4bd48cad/openai-0.27.10-py3-none-any.whl.metadata\n",
      "  Downloading openai-0.27.10-py3-none-any.whl.metadata (13 kB)\n",
      "Requirement already satisfied: requests>=2.20 in /Users/mw/anaconda3/lib/python3.11/site-packages (from openai<0.28.0,>=0.27.0->helicone) (2.31.0)\n",
      "Requirement already satisfied: tqdm in /Users/mw/anaconda3/lib/python3.11/site-packages (from openai<0.28.0,>=0.27.0->helicone) (4.65.0)\n",
      "Requirement already satisfied: aiohttp in /Users/mw/anaconda3/lib/python3.11/site-packages (from openai<0.28.0,>=0.27.0->helicone) (3.8.3)\n",
      "Requirement already satisfied: charset-normalizer<4,>=2 in /Users/mw/anaconda3/lib/python3.11/site-packages (from requests>=2.20->openai<0.28.0,>=0.27.0->helicone) (2.0.4)\n",
      "Requirement already satisfied: idna<4,>=2.5 in /Users/mw/anaconda3/lib/python3.11/site-packages (from requests>=2.20->openai<0.28.0,>=0.27.0->helicone) (3.4)\n",
      "Requirement already satisfied: urllib3<3,>=1.21.1 in /Users/mw/anaconda3/lib/python3.11/site-packages (from requests>=2.20->openai<0.28.0,>=0.27.0->helicone) (1.26.16)\n",
      "Requirement already satisfied: certifi>=2017.4.17 in /Users/mw/anaconda3/lib/python3.11/site-packages (from requests>=2.20->openai<0.28.0,>=0.27.0->helicone) (2023.7.22)\n",
      "Requirement already satisfied: attrs>=17.3.0 in /Users/mw/anaconda3/lib/python3.11/site-packages (from aiohttp->openai<0.28.0,>=0.27.0->helicone) (22.1.0)\n",
      "Requirement already satisfied: multidict<7.0,>=4.5 in /Users/mw/anaconda3/lib/python3.11/site-packages (from aiohttp->openai<0.28.0,>=0.27.0->helicone) (6.0.2)\n",
      "Requirement already satisfied: async-timeout<5.0,>=4.0.0a3 in /Users/mw/anaconda3/lib/python3.11/site-packages (from aiohttp->openai<0.28.0,>=0.27.0->helicone) (4.0.2)\n",
      "Requirement already satisfied: yarl<2.0,>=1.0 in /Users/mw/anaconda3/lib/python3.11/site-packages (from aiohttp->openai<0.28.0,>=0.27.0->helicone) (1.8.1)\n",
      "Requirement already satisfied: frozenlist>=1.1.1 in /Users/mw/anaconda3/lib/python3.11/site-packages (from aiohttp->openai<0.28.0,>=0.27.0->helicone) (1.3.3)\n",
      "Requirement already satisfied: aiosignal>=1.1.2 in /Users/mw/anaconda3/lib/python3.11/site-packages (from aiohttp->openai<0.28.0,>=0.27.0->helicone) (1.2.0)\n",
      "Downloading helicone-1.0.9-py3-none-any.whl (15 kB)\n",
      "Downloading openai-0.27.10-py3-none-any.whl (76 kB)\n",
      "\u001b[2K   \u001b[90m━━━━━━━━━━━━━━━━━━━━━━━━━━━━━━━━━━━━━━━━\u001b[0m \u001b[32m76.5/76.5 kB\u001b[0m \u001b[31m1.4 MB/s\u001b[0m eta \u001b[36m0:00:00\u001b[0mta \u001b[36m0:00:01\u001b[0m\n",
      "\u001b[?25hInstalling collected packages: lockfile, openai, helicone\n",
      "  Attempting uninstall: openai\n",
      "    Found existing installation: openai 0.28.0\n",
      "    Uninstalling openai-0.28.0:\n",
      "      Successfully uninstalled openai-0.28.0\n",
      "Successfully installed helicone-1.0.9 lockfile-0.12.2 openai-0.27.10\n",
      "Note: you may need to restart the kernel to use updated packages.\n"
     ]
    }
   ],
   "source": [
    "pip install helicone\n"
   ]
  },
  {
   "cell_type": "code",
   "execution_count": 11,
   "id": "f4e50f24",
   "metadata": {},
   "outputs": [
    {
     "name": "stderr",
     "output_type": "stream",
     "text": [
      "WARNING:root:Detected likely invalid Azure API URL when proxying Helicone with proxy url http://oai.hconeai.com/v1. Removing '/v1' from the end.\n"
     ]
    },
    {
     "data": {
      "text/plain": [
       "'Hello! How can I help you today?'"
      ]
     },
     "execution_count": 11,
     "metadata": {},
     "output_type": "execute_result"
    }
   ],
   "source": [
    "llm.predict(\"hi!\")"
   ]
  },
  {
   "cell_type": "code",
   "execution_count": 13,
   "id": "22ce25f3",
   "metadata": {},
   "outputs": [
    {
     "name": "stderr",
     "output_type": "stream",
     "text": [
      "WARNING:root:Detected likely invalid Azure API URL when proxying Helicone with proxy url http://oai.hconeai.com/v1. Removing '/v1' from the end.\n"
     ]
    },
    {
     "data": {
      "text/plain": [
       "'VibrantSteps'"
      ]
     },
     "execution_count": 13,
     "metadata": {},
     "output_type": "execute_result"
    }
   ],
   "source": [
    "text = \"What would be a good company name for a company that makes colorful socks?\"\n",
    "\n",
    "llm.predict(text)"
   ]
  },
  {
   "cell_type": "code",
   "execution_count": null,
   "id": "b2dfe228",
   "metadata": {},
   "outputs": [],
   "source": []
  }
 ],
 "metadata": {
  "kernelspec": {
   "display_name": "Python 3 (ipykernel)",
   "language": "python",
   "name": "python3"
  },
  "language_info": {
   "codemirror_mode": {
    "name": "ipython",
    "version": 3
   },
   "file_extension": ".py",
   "mimetype": "text/x-python",
   "name": "python",
   "nbconvert_exporter": "python",
   "pygments_lexer": "ipython3",
   "version": "3.11.4"
  }
 },
 "nbformat": 4,
 "nbformat_minor": 5
}
